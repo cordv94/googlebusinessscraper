{
 "cells": [
  {
   "cell_type": "markdown",
   "metadata": {},
   "source": [
    "# GOOGLE BUSINESS FINDER\n",
    "### THE PURPOSE OF THIS FUNCTION IS TO FIND INFORMATION ON A BUSINESS FROM A GOOGLE SEARCH\n"
   ]
  },
  {
   "cell_type": "code",
   "execution_count": 73,
   "metadata": {},
   "outputs": [],
   "source": [
    "def google_business_finder(url):\n",
    "    from urllib.request import urlopen\n",
    "    from bs4 import BeautifulSoup\n",
    "    from urllib.error import HTTPError\n",
    "    from urllib.request import Request, urlopen\n",
    "    from urllib.error import URLError\n",
    "    import json\n",
    "    try:\n",
    "        req = Request(url,headers={'User-Agent': 'Mozilla/5.0'})\n",
    "        html = urlopen(req)\n",
    "    except HTTPError as e:\n",
    "        print(e)\n",
    "    except URLError as e:\n",
    "        print('There is an error with this URL')\n",
    "    else:\n",
    "        bs = BeautifulSoup(html.read(), 'html.parser')\n",
    "        print('name')\n",
    "        name_list = bs.find('div', {'class': 'BNeawe deIvCb AP7Wnd'})\n",
    "        try:\n",
    "            print(name_list.get_text())\n",
    "        except AttributeError as e:\n",
    "            print('No class found')\n",
    "        else:\n",
    "            print('info')\n",
    "            info_list = bs.find_all('span',{'class':'BNeawe tAd8D AP7Wnd'})\n",
    "            try:\n",
    "                for info in info_list:\n",
    "                    print(info.get_text())\n",
    "            except AttributeError as e:\n",
    "                print('No class found')\n",
    "            else:\n",
    "                print('Website')\n",
    "                website_list =bs.find('div', {'class':'BNeawe UPmit AP7Wnd'})\n",
    "                try:\n",
    "                    print(website_list.get_text()) \n",
    "                except AttributeError as e:\n",
    "                    print('No class found')\n",
    "                else:\n",
    "                    print('description')\n",
    "                    description_list = bs.find('div', {'class':'BNeawe s3v9rd AP7Wnd'})\n",
    "                    try:\n",
    "                        print(description_list.get_text())\n",
    "                    except AttributeError as e:\n",
    "                        print('No class found')\n"
   ]
  },
  {
   "cell_type": "code",
   "execution_count": 3,
   "metadata": {},
   "outputs": [],
   "source": [
    "google='https://www.google.com/search?q='\n",
    "\n",
    "company_list = ['Barr%20Systems,%20LLC','BKR%20Partners','Brighter%20Green']\n"
   ]
  },
  {
   "cell_type": "code",
   "execution_count": null,
   "metadata": {
    "scrolled": true
   },
   "outputs": [],
   "source": [
    "companies_url = [google + company for company in company_list]\n",
    "\n",
    "for url in range(804,len(companies_url)):\n",
    "        print('THIS IS THE COMPANY #', url)\n",
    "        google_business_finder(companies_url[url])"
   ]
  },
  {
   "cell_type": "code",
   "execution_count": 74,
   "metadata": {},
   "outputs": [
    {
     "name": "stdout",
     "output_type": "stream",
     "text": [
      "https://www.google.com/search?q=Barr%20Systems,%20LLC\n",
      "name\n",
      "Barr Systems LLC\n",
      "info\n",
      "6241 NW 23rd St #401, Gainesville, FL 32653\n",
      "Closed ⋅ Opens 9AM Mon\n",
      "(352) 491-3100\n",
      "Website\n",
      "www.barrsystems.com\n",
      "description\n",
      "Barr Systems, LLC announces that effective immediately it has divested its Enterprise Output Management software program and will once again focus on its ...The CompanyBARR Enterprise Print ServerBARR Host Communications ...Barr IPDS ConverterBARR/PRINT CHANNELSupport Options\n"
     ]
    }
   ],
   "source": [
    "print(companies_url[0])\n",
    "google_business_finder(companies_url[0])"
   ]
  }
 ],
 "metadata": {
  "kernelspec": {
   "display_name": "Python 3",
   "language": "python",
   "name": "python3"
  },
  "language_info": {
   "codemirror_mode": {
    "name": "ipython",
    "version": 3
   },
   "file_extension": ".py",
   "mimetype": "text/x-python",
   "name": "python",
   "nbconvert_exporter": "python",
   "pygments_lexer": "ipython3",
   "version": "3.8.5"
  }
 },
 "nbformat": 4,
 "nbformat_minor": 4
}
